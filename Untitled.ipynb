{
 "cells": [
  {
   "cell_type": "code",
   "execution_count": 4,
   "metadata": {
    "collapsed": true
   },
   "outputs": [],
   "source": [
    "import requests as rq\n",
    "from bs4 import BeautifulSoup as bs"
   ]
  },
  {
   "cell_type": "code",
   "execution_count": 5,
   "metadata": {
    "collapsed": false
   },
   "outputs": [],
   "source": [
    "link = 'https://www.t-cat.com.tw/Inquire/TraceDetail.aspx?BillID=900032521962&ReturnUrl=Trace.aspx'\n",
    "response = rq.get(link)\n",
    "soup = bs(response.text, 'lxml')"
   ]
  },
  {
   "cell_type": "code",
   "execution_count": 34,
   "metadata": {
    "collapsed": false
   },
   "outputs": [
    {
     "name": "stdout",
     "output_type": "stream",
     "text": [
      "順利送達\n",
      "2016/12/28 16:07\n",
      "湖口營業所\n",
      "配送中\n",
      "2016/12/28 05:23\n",
      "湖口營業所\n"
     ]
    }
   ],
   "source": [
    "rows = soup.select('table.tablelist')[0].select('tr')\n",
    "for i in range(1, len(rows)):\n",
    "    j = 0\n",
    "    if i == 1:\n",
    "        j += 1\n",
    "    print(rows[i].select('td')[j].text.strip())\n",
    "    print(rows[i].select('td')[j + 1].text.strip())\n",
    "    print(rows[i].select('td')[j + 2].text.strip())"
   ]
  },
  {
   "cell_type": "code",
   "execution_count": null,
   "metadata": {
    "collapsed": true
   },
   "outputs": [],
   "source": []
  }
 ],
 "metadata": {
  "kernelspec": {
   "display_name": "Python 3",
   "language": "python",
   "name": "python3"
  },
  "language_info": {
   "codemirror_mode": {
    "name": "ipython",
    "version": 3
   },
   "file_extension": ".py",
   "mimetype": "text/x-python",
   "name": "python",
   "nbconvert_exporter": "python",
   "pygments_lexer": "ipython3",
   "version": "3.5.2"
  }
 },
 "nbformat": 4,
 "nbformat_minor": 2
}
